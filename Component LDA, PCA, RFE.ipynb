{
 "cells": [
  {
   "cell_type": "code",
   "execution_count": 27,
   "id": "41c66e87",
   "metadata": {},
   "outputs": [],
   "source": [
    "import numpy as np\n",
    "import matplotlib.pyplot as plt\n",
    "import pandas as pd\n",
    "from sklearn.discriminant_analysis import LinearDiscriminantAnalysis as LDA"
   ]
  },
  {
   "cell_type": "code",
   "execution_count": 28,
   "id": "103bc639",
   "metadata": {},
   "outputs": [],
   "source": [
    "dataset = pd.read_csv('babies(Preprocessed).csv')"
   ]
  },
  {
   "cell_type": "code",
   "execution_count": 29,
   "id": "ddf97c4a",
   "metadata": {},
   "outputs": [
    {
     "data": {
      "text/html": [
       "<div>\n",
       "<style scoped>\n",
       "    .dataframe tbody tr th:only-of-type {\n",
       "        vertical-align: middle;\n",
       "    }\n",
       "\n",
       "    .dataframe tbody tr th {\n",
       "        vertical-align: top;\n",
       "    }\n",
       "\n",
       "    .dataframe thead th {\n",
       "        text-align: right;\n",
       "    }\n",
       "</style>\n",
       "<table border=\"1\" class=\"dataframe\">\n",
       "  <thead>\n",
       "    <tr style=\"text-align: right;\">\n",
       "      <th></th>\n",
       "      <th>age</th>\n",
       "      <th>gestation</th>\n",
       "      <th>parity</th>\n",
       "      <th>height</th>\n",
       "      <th>weight</th>\n",
       "      <th>smoke</th>\n",
       "      <th>bwt</th>\n",
       "    </tr>\n",
       "  </thead>\n",
       "  <tbody>\n",
       "    <tr>\n",
       "      <th>0</th>\n",
       "      <td>27.0</td>\n",
       "      <td>284.000000</td>\n",
       "      <td>0</td>\n",
       "      <td>62.0</td>\n",
       "      <td>100.0</td>\n",
       "      <td>0.0</td>\n",
       "      <td>120</td>\n",
       "    </tr>\n",
       "    <tr>\n",
       "      <th>1</th>\n",
       "      <td>33.0</td>\n",
       "      <td>282.000000</td>\n",
       "      <td>0</td>\n",
       "      <td>64.0</td>\n",
       "      <td>135.0</td>\n",
       "      <td>0.0</td>\n",
       "      <td>113</td>\n",
       "    </tr>\n",
       "    <tr>\n",
       "      <th>2</th>\n",
       "      <td>28.0</td>\n",
       "      <td>279.000000</td>\n",
       "      <td>0</td>\n",
       "      <td>64.0</td>\n",
       "      <td>115.0</td>\n",
       "      <td>1.0</td>\n",
       "      <td>128</td>\n",
       "    </tr>\n",
       "    <tr>\n",
       "      <th>3</th>\n",
       "      <td>36.0</td>\n",
       "      <td>279.338512</td>\n",
       "      <td>0</td>\n",
       "      <td>69.0</td>\n",
       "      <td>190.0</td>\n",
       "      <td>0.0</td>\n",
       "      <td>123</td>\n",
       "    </tr>\n",
       "    <tr>\n",
       "      <th>4</th>\n",
       "      <td>23.0</td>\n",
       "      <td>282.000000</td>\n",
       "      <td>0</td>\n",
       "      <td>67.0</td>\n",
       "      <td>125.0</td>\n",
       "      <td>1.0</td>\n",
       "      <td>108</td>\n",
       "    </tr>\n",
       "    <tr>\n",
       "      <th>...</th>\n",
       "      <td>...</td>\n",
       "      <td>...</td>\n",
       "      <td>...</td>\n",
       "      <td>...</td>\n",
       "      <td>...</td>\n",
       "      <td>...</td>\n",
       "      <td>...</td>\n",
       "    </tr>\n",
       "    <tr>\n",
       "      <th>1231</th>\n",
       "      <td>27.0</td>\n",
       "      <td>275.000000</td>\n",
       "      <td>1</td>\n",
       "      <td>60.0</td>\n",
       "      <td>100.0</td>\n",
       "      <td>0.0</td>\n",
       "      <td>113</td>\n",
       "    </tr>\n",
       "    <tr>\n",
       "      <th>1232</th>\n",
       "      <td>24.0</td>\n",
       "      <td>265.000000</td>\n",
       "      <td>0</td>\n",
       "      <td>67.0</td>\n",
       "      <td>120.0</td>\n",
       "      <td>0.0</td>\n",
       "      <td>128</td>\n",
       "    </tr>\n",
       "    <tr>\n",
       "      <th>1233</th>\n",
       "      <td>30.0</td>\n",
       "      <td>291.000000</td>\n",
       "      <td>0</td>\n",
       "      <td>65.0</td>\n",
       "      <td>150.0</td>\n",
       "      <td>1.0</td>\n",
       "      <td>130</td>\n",
       "    </tr>\n",
       "    <tr>\n",
       "      <th>1234</th>\n",
       "      <td>21.0</td>\n",
       "      <td>281.000000</td>\n",
       "      <td>1</td>\n",
       "      <td>65.0</td>\n",
       "      <td>110.0</td>\n",
       "      <td>0.0</td>\n",
       "      <td>125</td>\n",
       "    </tr>\n",
       "    <tr>\n",
       "      <th>1235</th>\n",
       "      <td>38.0</td>\n",
       "      <td>297.000000</td>\n",
       "      <td>0</td>\n",
       "      <td>65.0</td>\n",
       "      <td>129.0</td>\n",
       "      <td>0.0</td>\n",
       "      <td>117</td>\n",
       "    </tr>\n",
       "  </tbody>\n",
       "</table>\n",
       "<p>1236 rows × 7 columns</p>\n",
       "</div>"
      ],
      "text/plain": [
       "       age   gestation  parity  height  weight  smoke  bwt\n",
       "0     27.0  284.000000       0    62.0   100.0    0.0  120\n",
       "1     33.0  282.000000       0    64.0   135.0    0.0  113\n",
       "2     28.0  279.000000       0    64.0   115.0    1.0  128\n",
       "3     36.0  279.338512       0    69.0   190.0    0.0  123\n",
       "4     23.0  282.000000       0    67.0   125.0    1.0  108\n",
       "...    ...         ...     ...     ...     ...    ...  ...\n",
       "1231  27.0  275.000000       1    60.0   100.0    0.0  113\n",
       "1232  24.0  265.000000       0    67.0   120.0    0.0  128\n",
       "1233  30.0  291.000000       0    65.0   150.0    1.0  130\n",
       "1234  21.0  281.000000       1    65.0   110.0    0.0  125\n",
       "1235  38.0  297.000000       0    65.0   129.0    0.0  117\n",
       "\n",
       "[1236 rows x 7 columns]"
      ]
     },
     "execution_count": 29,
     "metadata": {},
     "output_type": "execute_result"
    }
   ],
   "source": [
    "dataset"
   ]
  },
  {
   "cell_type": "code",
   "execution_count": 30,
   "id": "f7add625",
   "metadata": {},
   "outputs": [],
   "source": [
    "dataset = pd.read_csv(\"babies(Preprocessed).csv\")\n",
    "array = dataset.values\n",
    "X = dataset.drop('bwt', axis=1)\n",
    "Y = dataset['bwt']"
   ]
  },
  {
   "cell_type": "code",
   "execution_count": null,
   "id": "d908a118",
   "metadata": {},
   "outputs": [],
   "source": []
  },
  {
   "cell_type": "code",
   "execution_count": 31,
   "id": "11ffda73",
   "metadata": {},
   "outputs": [
    {
     "data": {
      "text/plain": [
       "0       120\n",
       "1       113\n",
       "2       128\n",
       "3       123\n",
       "4       108\n",
       "       ... \n",
       "1231    113\n",
       "1232    128\n",
       "1233    130\n",
       "1234    125\n",
       "1235    117\n",
       "Name: bwt, Length: 1236, dtype: int64"
      ]
     },
     "execution_count": 31,
     "metadata": {},
     "output_type": "execute_result"
    }
   ],
   "source": [
    "Y"
   ]
  },
  {
   "cell_type": "code",
   "execution_count": 32,
   "id": "5287df32",
   "metadata": {
    "scrolled": true
   },
   "outputs": [
    {
     "name": "stdout",
     "output_type": "stream",
     "text": [
      "Component 1: Explained Variance Ratio = 1.0\n"
     ]
    },
    {
     "data": {
      "image/png": "[encoded data removed]",
      "text/plain": [
       "<Figure size 640x480 with 1 Axes>"
      ]
     },
     "metadata": {},
     "output_type": "display_data"
    }
   ],
   "source": [
    "from sklearn.discriminant_analysis import LinearDiscriminantAnalysis as LDA\n",
    "import matplotlib.pyplot as plt\n",
    "import numpy as np\n",
    "import pandas as pd\n",
    "\n",
    "# Assuming Y is your continuous variable\n",
    "# Convert Y into bins or classes\n",
    "Y_bins = pd.cut(Y, bins=[0, 100, 200, 300], labels=[0, 1, 2])\n",
    "\n",
    "clf = LDA()\n",
    "clf.fit(X, Y_bins)\n",
    "\n",
    "# Plot the cumulative explained variance ratio\n",
    "plt.plot(np.cumsum(clf.explained_variance_ratio_))\n",
    "plt.grid(axis='x')\n",
    "plt.grid(axis='y')\n",
    "plt.xlabel('Number of Components')\n",
    "plt.ylabel('Variance')\n",
    "\n",
    "# Print the explained variance ratio and component number\n",
    "for i, ratio in enumerate(clf.explained_variance_ratio_):\n",
    "    print(f\"Component {i+1}: Explained Variance Ratio = {ratio}\")\n",
    "\n",
    "plt.show()\n"
   ]
  },
  {
   "cell_type": "code",
   "execution_count": 33,
   "id": "a981972e",
   "metadata": {},
   "outputs": [
    {
     "data": {
      "image/png": "[encoded data removed]",
      "text/plain": [
       "<Figure size 640x480 with 1 Axes>"
      ]
     },
     "metadata": {},
     "output_type": "display_data"
    }
   ],
   "source": [
    "from sklearn.decomposition import PCA\n",
    "import matplotlib.pyplot as plt\n",
    "import numpy as np\n",
    "\n",
    "# Assuming X is your data matrix\n",
    "pca = PCA().fit(X)\n",
    "\n",
    "plt.plot(np.cumsum(pca.explained_variance_ratio_))\n",
    "plt.grid(axis='x')  # Corrected 'X' to 'x'\n",
    "plt.grid(axis='y')  # Corrected 'Y' to 'y'\n",
    "plt.xlabel('Number of Components')\n",
    "plt.ylabel('Variance Explained')\n",
    "plt.title('Variance Explained by Principal Components')\n",
    "plt.show()"
   ]
  },
  {
   "cell_type": "code",
   "execution_count": 34,
   "id": "c92dfab7",
   "metadata": {},
   "outputs": [
    {
     "data": {
      "text/plain": [
       "array([False, False,  True, False, False,  True])"
      ]
     },
     "execution_count": 34,
     "metadata": {},
     "output_type": "execute_result"
    }
   ],
   "source": [
    "from sklearn.feature_selection import RFE\n",
    "from sklearn.svm import SVR\n",
    "estimator = SVR(kernel=\"linear\")\n",
    "rfe = RFE(estimator, n_features_to_select=2, step=1)\n",
    "p=rfe.fit(X, Y)\n",
    "p.support_"
   ]
  },
  {
   "cell_type": "code",
   "execution_count": null,
   "id": "fa230cc3",
   "metadata": {},
   "outputs": [],
   "source": []
  }
 ],
 "metadata": {
  "kernelspec": {
   "display_name": "Python 3 (ipykernel)",
   "language": "python",
   "name": "python3"
  },
  "language_info": {
   "codemirror_mode": {
    "name": "ipython",
    "version": 3
   },
   "file_extension": ".py",
   "mimetype": "text/x-python",
   "name": "python",
   "nbconvert_exporter": "python",
   "pygments_lexer": "ipython3",
   "version": "3.11.5"
  }
 },
 "nbformat": 4,
 "nbformat_minor": 5
}
